{
 "cells": [
  {
   "cell_type": "code",
   "execution_count": 32,
   "metadata": {},
   "outputs": [],
   "source": [
    "%matplotlib inline\n",
    "import cv2\n",
    "import matplotlib.pyplot as plt\n",
    "import numpy as np\n",
    "import os"
   ]
  },
  {
   "cell_type": "code",
   "execution_count": 33,
   "metadata": {},
   "outputs": [],
   "source": [
    "import json\n",
    "from pathlib import Path\n",
    "import cv2"
   ]
  },
  {
   "cell_type": "markdown",
   "metadata": {},
   "source": [
    "### images"
   ]
  },
  {
   "cell_type": "code",
   "execution_count": 34,
   "metadata": {},
   "outputs": [],
   "source": [
    "path = Path('/home/zhangyu/mmdetection/data/compe/val2017')"
   ]
  },
  {
   "cell_type": "code",
   "execution_count": 35,
   "metadata": {},
   "outputs": [],
   "source": [
    "id_tmp = 2019000001\n",
    "images_list = []\n",
    "for i in path.glob('*'):\n",
    "    tmp_dict = {}\n",
    "    img = cv2.imread(str(i))\n",
    "    tmp_dict['file_name'] = i.stem\n",
    "    tmp_dict['width'] = img.shape[1]\n",
    "    tmp_dict['height'] = img.shape[0]\n",
    "    tmp_dict['id'] = id_tmp\n",
    "    id_tmp = id_tmp + 1\n",
    "    images_list.append(tmp_dict)"
   ]
  },
  {
   "cell_type": "markdown",
   "metadata": {},
   "source": [
    "### annotations"
   ]
  },
  {
   "cell_type": "code",
   "execution_count": 214,
   "metadata": {},
   "outputs": [],
   "source": [
    "txt_path_pre = '/home/zhangyu/mmdetection/data/compe/source/val/labelTxt/labelTxt/'\n",
    "## 加入标签\n",
    "categories_tmp = {}\n",
    "annotations = []\n",
    "categories_tmp_index = 0\n",
    "anno_dict_index = 0\n",
    "for img_dict in images_list:\n",
    "    txt_path = txt_path_pre + img_dict['file_name'].split('.')[0]+'.txt'\n",
    "    with open(txt_path, 'r') as f:\n",
    "        lines = f.readlines()\n",
    "        lines = list(set(lines))\n",
    "        if '\\n' in lines:\n",
    "            lines.remove('\\n')\n",
    "        for line in lines:\n",
    "            anno_dict = {}\n",
    "            if 'gsd' in line or 'imagesource' in line:\n",
    "                pass\n",
    "            else:\n",
    "                my_list = line.split(' ')\n",
    "                if my_list[-2] not in categories_tmp:\n",
    "                    categories_tmp[my_list[-2]] = categories_tmp_index\n",
    "                    categories_tmp_index+=1\n",
    "                \n",
    "                segmentation = [float(i) for i in my_list[0:8]]\n",
    "                x_min = np.array(segmentation[::2]).min()\n",
    "                x_max = np.array(segmentation[::2]).max()\n",
    "                y_min = np.array(segmentation[1::2]).min()\n",
    "                y_max = np.array(segmentation[1::2]).max()\n",
    "                anno_dict['segmentation'] = [segmentation]\n",
    "                anno_dict['area'] = (x_max-x_min)*(y_max-y_min)\n",
    "                anno_dict['iscrowd'] = 0\n",
    "                anno_dict['image_id'] = img_dict['id']\n",
    "                anno_dict['bbox'] = [x_min,y_min,x_max,y_max]\n",
    "                anno_dict['category_id'] = categories_tmp[my_list[-2]]\n",
    "                anno_dict['id'] = anno_dict_index+1\n",
    "                anno_dict_index +=1\n",
    "                annotations.append(anno_dict)"
   ]
  },
  {
   "cell_type": "code",
   "execution_count": 4,
   "metadata": {},
   "outputs": [],
   "source": [
    "my_json = {}\n",
    "my_json['images'] = images_list\n",
    "my_json['type'] = 'instances'\n",
    "\n",
    "with open('/home/zhangyu/mmdetection/data/compe/annotations/instances_val2017.json','w') as f:\n",
    "    load_dict = json.dump(my_dict,f)"
   ]
  },
  {
   "cell_type": "code",
   "execution_count": 110,
   "metadata": {},
   "outputs": [],
   "source": [
    "with open('/home/zhangyu/mmdetection/data/coco/annotations/instances_val2017.json','r') as f:\n",
    "    coco_dict = json.load(f)"
   ]
  },
  {
   "cell_type": "code",
   "execution_count": 8,
   "metadata": {},
   "outputs": [
    {
     "data": {
      "text/plain": [
       "dict_keys(['images', 'type', 'annotations', 'categories'])"
      ]
     },
     "execution_count": 8,
     "metadata": {},
     "output_type": "execute_result"
    }
   ],
   "source": [
    "coco_dict.keys()"
   ]
  },
  {
   "cell_type": "code",
   "execution_count": 126,
   "metadata": {},
   "outputs": [],
   "source": [
    "txt_path = '/home/zhangyu/mmdetection/data/compe/source/val/labelTxt/labelTxt/P2129.txt'\n",
    "with open(txt_path, 'r') as f:\n",
    "    test = f.readlines()"
   ]
  }
 ],
 "metadata": {
  "kernelspec": {
   "display_name": "Python 3",
   "language": "python",
   "name": "python3"
  },
  "language_info": {
   "codemirror_mode": {
    "name": "ipython",
    "version": 3
   },
   "file_extension": ".py",
   "mimetype": "text/x-python",
   "name": "python",
   "nbconvert_exporter": "python",
   "pygments_lexer": "ipython3",
   "version": "3.6.8"
  }
 },
 "nbformat": 4,
 "nbformat_minor": 2
}
