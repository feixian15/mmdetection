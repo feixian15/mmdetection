{
 "cells": [
  {
   "cell_type": "code",
   "execution_count": 11,
   "metadata": {},
   "outputs": [],
   "source": [
    "%matplotlib inline\n",
    "import matplotlib.pyplot as plt\n",
    "import json"
   ]
  },
  {
   "cell_type": "code",
   "execution_count": 13,
   "metadata": {},
   "outputs": [],
   "source": [
    "path = '/home/zhangyu/mmdetection/data/coco/annotations/instances_train2017.json'"
   ]
  },
  {
   "cell_type": "code",
   "execution_count": 14,
   "metadata": {},
   "outputs": [],
   "source": [
    "with open(path,'r') as f:\n",
    "    my_dict = json.load(f)"
   ]
  },
  {
   "cell_type": "code",
   "execution_count": 46,
   "metadata": {},
   "outputs": [],
   "source": [
    "my_dict_new = {}\n",
    "my_dict_new['images'] = my_dict['images'][0:2000]\n",
    "my_dict_new['type'] = my_dict['type']\n",
    "my_dict_new['annotations'] = my_dict['annotations'][0:2000]\n",
    "my_dict_new['categories'] = my_dict['categories']"
   ]
  },
  {
   "cell_type": "code",
   "execution_count": 10,
   "metadata": {},
   "outputs": [],
   "source": [
    "path = '/home/zhangyu/mmdetection/data/wenzhe_coco/annotations/instances_train2017_test.json'"
   ]
  },
  {
   "cell_type": "code",
   "execution_count": 48,
   "metadata": {},
   "outputs": [],
   "source": [
    "with open(path,'w') as f:\n",
    "    json.dump(my_dict_new,f)"
   ]
  },
  {
   "cell_type": "code",
   "execution_count": 11,
   "metadata": {},
   "outputs": [],
   "source": [
    "cfg = {\"ff\":12,\"ef\":33}"
   ]
  },
  {
   "cell_type": "code",
   "execution_count": 12,
   "metadata": {},
   "outputs": [
    {
     "data": {
      "text/plain": [
       "False"
      ]
     },
     "execution_count": 12,
     "metadata": {},
     "output_type": "execute_result"
    }
   ],
   "source": [
    "isinstance(cfg, list)"
   ]
  },
  {
   "cell_type": "code",
   "execution_count": 33,
   "metadata": {},
   "outputs": [
    {
     "ename": "NameError",
     "evalue": "name 'load_checkpoint' is not defined",
     "output_type": "error",
     "traceback": [
      "\u001b[0;31m---------------------------------------------------------------------------\u001b[0m",
      "\u001b[0;31mNameError\u001b[0m                                 Traceback (most recent call last)",
      "\u001b[0;32m<ipython-input-33-57fe073e251b>\u001b[0m in \u001b[0;36m<module>\u001b[0;34m\u001b[0m\n\u001b[0;32m----> 1\u001b[0;31m \u001b[0mload_checkpoint\u001b[0m\u001b[0;34m(\u001b[0m\u001b[0mmodel\u001b[0m\u001b[0;34m,\u001b[0m \u001b[0;34m'torchvision://resnet50'\u001b[0m\u001b[0;34m)\u001b[0m\u001b[0;34m\u001b[0m\u001b[0;34m\u001b[0m\u001b[0m\n\u001b[0m",
      "\u001b[0;31mNameError\u001b[0m: name 'load_checkpoint' is not defined"
     ]
    }
   ],
   "source": [
    "load_checkpoint(model, 'torchvision://resnet50')"
   ]
  },
  {
   "cell_type": "code",
   "execution_count": 24,
   "metadata": {},
   "outputs": [],
   "source": [
    "# load_checkpoint(model, 'modelzoo://resnet50')"
   ]
  },
  {
   "cell_type": "code",
   "execution_count": 7,
   "metadata": {},
   "outputs": [],
   "source": [
    "import torch\n",
    "checkpoint = torch.load('./work_dirs/faster_rcnn_r50_fpn_1x/latest.pth')"
   ]
  },
  {
   "cell_type": "code",
   "execution_count": 9,
   "metadata": {},
   "outputs": [
    {
     "data": {
      "text/plain": [
       "\u001b[0;31mDocstring:\u001b[0m\n",
       "getsizeof(object, default) -> int\n",
       "\n",
       "Return the size of object in bytes.\n",
       "\u001b[0;31mType:\u001b[0m      builtin_function_or_method\n"
      ]
     },
     "metadata": {},
     "output_type": "display_data"
    }
   ],
   "source": [
    "import sys\n",
    "sys.getsizeof?"
   ]
  },
  {
   "cell_type": "code",
   "execution_count": 1,
   "metadata": {},
   "outputs": [
    {
     "name": "stdout",
     "output_type": "stream",
     "text": [
      "/data/algorithm/public/bigdata/nongyebu_shouguang_20190823/result_file\n"
     ]
    }
   ],
   "source": [
    "def parse_args():\n",
    "    parser = argparse.ArgumentParser(description='Train a detector')\n",
    "    parser.add_argument(\n",
    "        '--gpus',\n",
    "        type=int,\n",
    "        nargs='+',\n",
    "        default=1,\n",
    "        help='number of gpus to use '\n",
    "        '(only applicable to non-distributed training)')\n",
    "    return args\n",
    "\n",
    "args = parse_args()"
   ]
  },
  {
   "cell_type": "code",
   "execution_count": 29,
   "metadata": {},
   "outputs": [
    {
     "name": "stdout",
     "output_type": "stream",
     "text": [
      "[0, 1]\n"
     ]
    }
   ],
   "source": [
    "run zy_test.py --gpus 0 1 --work_dir /data/"
   ]
  },
  {
   "cell_type": "code",
   "execution_count": 1,
   "metadata": {},
   "outputs": [
    {
     "ename": "SyntaxError",
     "evalue": "invalid syntax (<ipython-input-1-6d7dc1fa7abc>, line 1)",
     "output_type": "error",
     "traceback": [
      "\u001b[0;36m  File \u001b[0;32m\"<ipython-input-1-6d7dc1fa7abc>\"\u001b[0;36m, line \u001b[0;32m1\u001b[0m\n\u001b[0;31m    max_depth:int=3, learning_rate:float=0.1,\u001b[0m\n\u001b[0m                   ^\u001b[0m\n\u001b[0;31mSyntaxError\u001b[0m\u001b[0;31m:\u001b[0m invalid syntax\n"
     ]
    }
   ],
   "source": [
    "label_tif = '/data/algorithm/public/bigdata/GF6_research_20190801/zy_process/regular_multi_classfy/summer/merge_GF1_WFV1_E104.8_N31.3_20190406_L1C_T48RVV_A019792_20190407T034651_crop_2.tiff'\n",
    "    tif_data = gdal.Open(label_tif)\n",
    "    tif_array = tif_data.ReadAsArray()\n",
    "    shape_data = gpd.read_file(label_path)\n",
    "    label_array = shape2tif(shape_data, tif_array, tif_data)\n",
    "    predict_array = tiff.imread(predict_path)\n",
    "    label_array = label_array.flatten().tolist()\n",
    "    predict_array = predict_array.flatten().tolist()\n",
    "    return label_array, predict_array\n",
    "if __name__ == \"__main__\":\n",
    "    predict_path_list = list(Path(\"/data/algorithm/public/bigdata/GF6_research_20190801/zy_process/regular_multi_classfy/summer/\").glob(\"merge_GF1_WFV1_E104.8_N31.3_20190406_L1C_T48RVV_A019792_20190407T034651_crop_2_xgboost_result_new_convert.tiff\"))\n",
    "    label_path_list = list(Path(\"/data/algorithm/public/bigdata/GF6_research_20190801/zy_process/regular_multi_classfy/summer/\").glob(\"gaofen6_summer_new.shp\"))\n",
    "    print(predict_path_list, label_path_list)\n",
    "    label_array, predict_array = zip(*(map(precision_evaluation, label_path_list, predict_path_list)))\n",
    "    label_list = reduce(lambda x,y: x+y, label_array)\n",
    "    predict_list = reduce(lambda x,y: x+y, predict_array)\n",
    "    precision = classification_report(label_list, predict_list,target_names=[\"background\", \"dimo\",\"other\"])\n",
    "    print(precision)\n"
   ]
  },
  {
   "cell_type": "code",
   "execution_count": null,
   "metadata": {},
   "outputs": [],
   "source": []
  },
  {
   "cell_type": "code",
   "execution_count": null,
   "metadata": {},
   "outputs": [],
   "source": []
  }
 ],
 "metadata": {
  "kernelspec": {
   "display_name": "Python 3",
   "language": "python",
   "name": "python3"
  },
  "language_info": {
   "codemirror_mode": {
    "name": "ipython",
    "version": 3
   },
   "file_extension": ".py",
   "mimetype": "text/x-python",
   "name": "python",
   "nbconvert_exporter": "python",
   "pygments_lexer": "ipython3",
   "version": "3.6.8"
  }
 },
 "nbformat": 4,
 "nbformat_minor": 4
}
